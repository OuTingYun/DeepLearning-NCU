{
 "cells": [
  {
   "cell_type": "code",
   "execution_count": 3,
   "metadata": {},
   "outputs": [],
   "source": [
    "# Computational imports\n",
    "import numpy as np   # Library for n-dimensional arrays\n",
    "import pandas as pd  # Library for dataframes (structured data)\n",
    "\n",
    "# Helper imports\n",
    "import os \n",
    "import warnings\n",
    "# import pandas_datareader as web\n",
    "import datetime as dt\n",
    "\n",
    "# ML/DL imports\n",
    "from tensorflow.keras.models import Sequential\n",
    "from tensorflow.keras.preprocessing.sequence import TimeseriesGenerator\n",
    "from tensorflow.keras.layers import LSTM, Dense, Dropout, RepeatVector, TimeDistributed,GRU,Embedding\n",
    "from sklearn.preprocessing import MinMaxScaler, OrdinalEncoder\n",
    "from sklearn.metrics import mean_squared_error, mean_squared_log_error\n",
    "from sklearn.model_selection import train_test_split\n",
    "from tensorflow.keras.callbacks import ModelCheckpoint, EarlyStopping\n",
    "\n",
    "# Plotting imports\n",
    "import matplotlib.pyplot as plt\n",
    "import matplotlib.dates as dates\n",
    "# import plotly.express as px\n",
    "# import plotly.graph_objects as go\n",
    "# import plotly.figure_factory as ff\n",
    "# from plotly.subplots import make_subplots\n",
    "# from plotly.offline import init_notebook_mode, iplot\n",
    "\n",
    "# Set seeds to make the experiment more reproducible.\n",
    "from numpy.random import seed\n",
    "seed(1)"
   ]
  },
  {
   "cell_type": "code",
   "execution_count": null,
   "metadata": {},
   "outputs": [],
   "source": [
    "filepath='model2/'"
   ]
  },
  {
   "cell_type": "code",
   "execution_count": 161,
   "metadata": {},
   "outputs": [],
   "source": [
    "df = pd.read_csv('df.csv')"
   ]
  },
  {
   "cell_type": "code",
   "execution_count": 162,
   "metadata": {},
   "outputs": [],
   "source": [
    "data_oil = pd.read_csv('oil.csv')\n",
    "data_oil['date']=pd.to_datetime(data_oil['date'])"
   ]
  },
  {
   "cell_type": "code",
   "execution_count": 163,
   "metadata": {},
   "outputs": [
    {
     "name": "stderr",
     "output_type": "stream",
     "text": [
      "C:\\Users\\User\\AppData\\Roaming\\Python\\Python37\\site-packages\\numpy\\lib\\arraysetops.py:569: FutureWarning: elementwise comparison failed; returning scalar instead, but in the future will perform elementwise comparison\n",
      "  mask |= (ar1 == a)\n"
     ]
    }
   ],
   "source": [
    "\n",
    "train_data = pd.read_csv('train.csv', index_col=0)\n",
    "test_data = pd.read_csv('test.csv', index_col=0)\n",
    "data_oil = pd.read_csv('oil.csv')\n",
    "samp_subm = pd.read_csv('sample_submission.csv')\n",
    "data_holi = pd.read_csv('holidays_events.csv')\n",
    "data_store =  pd.read_csv('stores.csv')\n",
    "data_trans = pd.read_csv('transactions.csv')\n",
    "train_index = len(train_data)\n",
    "test_index = len(test_data)"
   ]
  },
  {
   "cell_type": "code",
   "execution_count": 7,
   "metadata": {},
   "outputs": [],
   "source": [
    "# df = pd.concat([train_data,test_data],ignore_index=True)"
   ]
  },
  {
   "cell_type": "code",
   "execution_count": null,
   "metadata": {},
   "outputs": [],
   "source": [
    "# Add holiday into train_data\n",
    "holi_day = data_holi['date'][data_holi[['date']]['date'].between('2013-01-01','2017-08-31')]\n",
    "df['date']=pd.to_datetime(df['date'])\n",
    "df['holiday'] = df['date'].isin(holi_day).replace({True:1,False:0})"
   ]
  },
  {
   "cell_type": "code",
   "execution_count": null,
   "metadata": {},
   "outputs": [],
   "source": [
    "data_day = df.drop_duplicates(['date']).reset_index(drop=True)\n"
   ]
  },
  {
   "cell_type": "code",
   "execution_count": null,
   "metadata": {},
   "outputs": [],
   "source": [
    "\n",
    "a = [data_oil.index[data_oil['date']==day].tolist() for day in data_day['date']]"
   ]
  },
  {
   "cell_type": "code",
   "execution_count": null,
   "metadata": {},
   "outputs": [],
   "source": [
    "b = [data_day.index[data_day['date']==day].tolist() for day in df['date']]"
   ]
  },
  {
   "cell_type": "code",
   "execution_count": null,
   "metadata": {},
   "outputs": [],
   "source": [
    "data_oil.fillna(value=data_oil['dcoilwtico'].mean(),inplace=True)\n",
    "df['oil']=data_oil['dcoilwtico'].mean()"
   ]
  },
  {
   "cell_type": "code",
   "execution_count": null,
   "metadata": {},
   "outputs": [],
   "source": [
    "for day_index in range(len(df['oil'])):\n",
    "    L = a[b[day_index][0]]\n",
    "    if L!=[]:\n",
    "        df['oil'][day_index] = data_oil['dcoilwtico'][L[0]]"
   ]
  },
  {
   "cell_type": "code",
   "execution_count": 272,
   "metadata": {},
   "outputs": [],
   "source": [
    "df.to_csv(\"df.csv\",index=False,sep=',')"
   ]
  },
  {
   "cell_type": "code",
   "execution_count": 273,
   "metadata": {},
   "outputs": [
    {
     "name": "stdout",
     "output_type": "stream",
     "text": [
      "['store_nbr', 'family', 'sales', 'onpromotion', 'holiday', 'oil']\n"
     ]
    }
   ],
   "source": [
    "object_cols = [cname for cname in df.columns if df[cname].dtype == \"object\" and cname != \"date\"]\n",
    "num_cols = [cname for cname in df.columns if df[cname].dtype in ['int64', 'float64'] ]\n",
    "all_cols = num_cols + object_cols\n",
    "print(all_cols)"
   ]
  },
  {
   "cell_type": "code",
   "execution_count": 274,
   "metadata": {},
   "outputs": [],
   "source": [
    "ordinal_encoder = OrdinalEncoder()\n",
    "df[object_cols] = ordinal_encoder.fit_transform(df[object_cols])"
   ]
  },
  {
   "cell_type": "code",
   "execution_count": 275,
   "metadata": {},
   "outputs": [],
   "source": [
    "x_train = df[:train_index].copy()\n",
    "# y_train = df[:train_index].sales.copy()\n",
    "x_train = x_train.groupby(['date']).agg({'store_nbr':'mean', 'family':'mean','onpromotion':'mean','holiday':'mean','oil':'mean','sales':'mean'})\n"
   ]
  },
  {
   "cell_type": "code",
   "execution_count": 276,
   "metadata": {},
   "outputs": [],
   "source": [
    "\n",
    "scaler = MinMaxScaler(feature_range=(0,1))\n",
    "all_cols = [\"holiday\",\"oil\",\"sales\"]\n",
    "\n",
    "for col in all_cols:\n",
    "    x_train[col] = scaler.fit_transform(x_train[col].values.reshape(-1,1))\n",
    "y_train = x_train['sales']\n",
    "x_train = x_train.drop(columns=['sales'])"
   ]
  },
  {
   "cell_type": "code",
   "execution_count": 277,
   "metadata": {},
   "outputs": [],
   "source": [
    "history_input = 30\n",
    "x_train_input = []\n",
    "y_train_input = []\n",
    "for i in range(len(x_train)-history_input+1):\n",
    "    x_train_input.append(x_train[i:i+history_input].values)\n",
    "    y_train_input.append(y_train.iloc[i+history_input-1])\n",
    "x_train_input=np.array(x_train_input)\n",
    "y_train_input=np.array(y_train_input)\n",
    "# print(x_train_input.shape)\n",
    "# print(y_train_input.shape)"
   ]
  },
  {
   "cell_type": "code",
   "execution_count": 278,
   "metadata": {},
   "outputs": [],
   "source": [
    "# def Make_Model_GRU():\n",
    "#     model = Sequential()\n",
    "#     model.add(Embedding(3800,32,input_length=380))\n",
    "#     model.add(Dropout(0.2))\n",
    "#     model.add(GRU(32))\n",
    "    \n",
    "    \n",
    "    "
   ]
  },
  {
   "cell_type": "code",
   "execution_count": 395,
   "metadata": {},
   "outputs": [],
   "source": [
    "def Multi_Step_LSTM_model():\n",
    "    \n",
    "    # Use Keras sequential model\n",
    "    model = Sequential()    \n",
    "    \n",
    "    # First LSTM layer with Dropout regularisation; Set return_sequences to True to feed outputs to next layer\n",
    "    model.add(LSTM(units = 50, activation='relu', return_sequences = True, input_shape = x_train_input[0].shape )) \n",
    "    model.add(Dropout(0.2))\n",
    "    \n",
    "    # Second LSTM layer with Dropout regularisation; Set return_sequences to True to feed outputs to next layer\n",
    "    model.add(LSTM(units = 50,  activation='relu', return_sequences = True))                                    \n",
    "    model.add(Dropout(0.2))\n",
    "    \n",
    "    # Final LSTM layer with Dropout regularisation; Set return_sequences to False since now we will be predicting with the output layer\n",
    "    model.add(LSTM(units = 50))\n",
    "    model.add(Dropout(0.2))\n",
    "    \n",
    "    # The output layer with linear activation to predict Open stock price\n",
    "    model.add(Dense(units=1, activation = \"linear\"))\n",
    "    \n",
    "    return model"
   ]
  },
  {
   "cell_type": "code",
   "execution_count": 396,
   "metadata": {},
   "outputs": [
    {
     "name": "stdout",
     "output_type": "stream",
     "text": [
      "Model: \"sequential_7\"\n",
      "_________________________________________________________________\n",
      "Layer (type)                 Output Shape              Param #   \n",
      "=================================================================\n",
      "lstm_18 (LSTM)               (None, 30, 50)            11200     \n",
      "_________________________________________________________________\n",
      "dropout_18 (Dropout)         (None, 30, 50)            0         \n",
      "_________________________________________________________________\n",
      "lstm_19 (LSTM)               (None, 30, 50)            20200     \n",
      "_________________________________________________________________\n",
      "dropout_19 (Dropout)         (None, 30, 50)            0         \n",
      "_________________________________________________________________\n",
      "lstm_20 (LSTM)               (None, 50)                20200     \n",
      "_________________________________________________________________\n",
      "dropout_20 (Dropout)         (None, 50)                0         \n",
      "_________________________________________________________________\n",
      "dense_6 (Dense)              (None, 1)                 51        \n",
      "=================================================================\n",
      "Total params: 51,651\n",
      "Trainable params: 51,651\n",
      "Non-trainable params: 0\n",
      "_________________________________________________________________\n"
     ]
    }
   ],
   "source": [
    "model = Multi_Step_LSTM_model()\n",
    "model.summary()\n",
    "model.compile(optimizer='adam', loss='mean_squared_error', metrics = ['accuracy'])"
   ]
  },
  {
   "cell_type": "code",
   "execution_count": 397,
   "metadata": {},
   "outputs": [
    {
     "name": "stdout",
     "output_type": "stream",
     "text": [
      "Epoch 1/100\n",
      "1/1 [==============================] - 3s 3s/step - loss: 0.2351 - accuracy: 0.0000e+00 - val_loss: 0.3111 - val_accuracy: 0.0000e+00\n",
      "Epoch 2/100\n",
      "1/1 [==============================] - 0s 139ms/step - loss: 0.1982 - accuracy: 0.0000e+00 - val_loss: 0.2713 - val_accuracy: 0.0000e+00\n",
      "Epoch 3/100\n",
      "1/1 [==============================] - 0s 146ms/step - loss: 0.1685 - accuracy: 0.0000e+00 - val_loss: 0.2347 - val_accuracy: 0.0000e+00\n",
      "Epoch 4/100\n",
      "1/1 [==============================] - 0s 152ms/step - loss: 0.1418 - accuracy: 0.0000e+00 - val_loss: 0.1989 - val_accuracy: 0.0000e+00\n",
      "Epoch 5/100\n",
      "1/1 [==============================] - 0s 146ms/step - loss: 0.1167 - accuracy: 0.0000e+00 - val_loss: 0.1628 - val_accuracy: 0.0000e+00\n",
      "Epoch 6/100\n",
      "1/1 [==============================] - 0s 162ms/step - loss: 0.0919 - accuracy: 0.0000e+00 - val_loss: 0.1244 - val_accuracy: 0.0000e+00\n",
      "Epoch 7/100\n",
      "1/1 [==============================] - 0s 152ms/step - loss: 0.0648 - accuracy: 0.0000e+00 - val_loss: 0.0853 - val_accuracy: 0.0000e+00\n",
      "Epoch 8/100\n",
      "1/1 [==============================] - 0s 151ms/step - loss: 0.0425 - accuracy: 0.0000e+00 - val_loss: 0.0493 - val_accuracy: 0.0000e+00\n",
      "Epoch 9/100\n",
      "1/1 [==============================] - 0s 179ms/step - loss: 0.0251 - accuracy: 0.0000e+00 - val_loss: 0.0257 - val_accuracy: 0.0000e+00\n",
      "Epoch 10/100\n",
      "1/1 [==============================] - 0s 173ms/step - loss: 0.0218 - accuracy: 0.0000e+00 - val_loss: 0.0263 - val_accuracy: 0.0000e+00\n",
      "Epoch 11/100\n",
      "1/1 [==============================] - 0s 185ms/step - loss: 0.0415 - accuracy: 0.0026 - val_loss: 0.0294 - val_accuracy: 0.0000e+00\n",
      "Epoch 12/100\n",
      "1/1 [==============================] - 0s 168ms/step - loss: 0.0499 - accuracy: 0.0026 - val_loss: 0.0257 - val_accuracy: 0.0000e+00\n",
      "Epoch 13/100\n",
      "1/1 [==============================] - 0s 180ms/step - loss: 0.0410 - accuracy: 0.0026 - val_loss: 0.0232 - val_accuracy: 0.0000e+00\n",
      "Epoch 14/100\n",
      "1/1 [==============================] - 0s 179ms/step - loss: 0.0292 - accuracy: 0.0026 - val_loss: 0.0258 - val_accuracy: 0.0000e+00\n",
      "Epoch 15/100\n",
      "1/1 [==============================] - 0s 152ms/step - loss: 0.0236 - accuracy: 0.0000e+00 - val_loss: 0.0322 - val_accuracy: 0.0000e+00\n",
      "Epoch 16/100\n",
      "1/1 [==============================] - 0s 154ms/step - loss: 0.0200 - accuracy: 0.0000e+00 - val_loss: 0.0400 - val_accuracy: 0.0000e+00\n",
      "Epoch 17/100\n",
      "1/1 [==============================] - 0s 157ms/step - loss: 0.0207 - accuracy: 0.0000e+00 - val_loss: 0.0472 - val_accuracy: 0.0000e+00\n",
      "Epoch 18/100\n",
      "1/1 [==============================] - 0s 170ms/step - loss: 0.0232 - accuracy: 0.0000e+00 - val_loss: 0.0528 - val_accuracy: 0.0000e+00\n",
      "Epoch 19/100\n",
      "1/1 [==============================] - 0s 164ms/step - loss: 0.0258 - accuracy: 0.0000e+00 - val_loss: 0.0565 - val_accuracy: 0.0000e+00\n",
      "Epoch 20/100\n",
      "1/1 [==============================] - 0s 163ms/step - loss: 0.0260 - accuracy: 0.0000e+00 - val_loss: 0.0580 - val_accuracy: 0.0000e+00\n",
      "Epoch 21/100\n",
      "1/1 [==============================] - 0s 162ms/step - loss: 0.0270 - accuracy: 0.0000e+00 - val_loss: 0.0576 - val_accuracy: 0.0000e+00\n",
      "Epoch 22/100\n",
      "1/1 [==============================] - 0s 162ms/step - loss: 0.0274 - accuracy: 0.0000e+00 - val_loss: 0.0556 - val_accuracy: 0.0000e+00\n",
      "Epoch 23/100\n",
      "1/1 [==============================] - 0s 157ms/step - loss: 0.0255 - accuracy: 0.0000e+00 - val_loss: 0.0522 - val_accuracy: 0.0000e+00\n",
      "Epoch 24/100\n",
      "1/1 [==============================] - 0s 163ms/step - loss: 0.0251 - accuracy: 0.0000e+00 - val_loss: 0.0481 - val_accuracy: 0.0000e+00\n",
      "Epoch 25/100\n",
      "1/1 [==============================] - 0s 170ms/step - loss: 0.0233 - accuracy: 0.0000e+00 - val_loss: 0.0435 - val_accuracy: 0.0000e+00\n",
      "Epoch 26/100\n",
      "1/1 [==============================] - 0s 153ms/step - loss: 0.0218 - accuracy: 0.0000e+00 - val_loss: 0.0389 - val_accuracy: 0.0000e+00\n",
      "Epoch 27/100\n",
      "1/1 [==============================] - 0s 166ms/step - loss: 0.0200 - accuracy: 0.0000e+00 - val_loss: 0.0346 - val_accuracy: 0.0000e+00\n",
      "Epoch 28/100\n",
      "1/1 [==============================] - 0s 160ms/step - loss: 0.0201 - accuracy: 0.0000e+00 - val_loss: 0.0310 - val_accuracy: 0.0000e+00\n",
      "Epoch 29/100\n",
      "1/1 [==============================] - 0s 158ms/step - loss: 0.0195 - accuracy: 0.0026 - val_loss: 0.0283 - val_accuracy: 0.0000e+00\n",
      "Epoch 30/100\n",
      "1/1 [==============================] - 0s 156ms/step - loss: 0.0197 - accuracy: 0.0026 - val_loss: 0.0266 - val_accuracy: 0.0000e+00\n",
      "Epoch 31/100\n",
      "1/1 [==============================] - 0s 156ms/step - loss: 0.0200 - accuracy: 0.0026 - val_loss: 0.0258 - val_accuracy: 0.0000e+00\n",
      "Epoch 32/100\n",
      "1/1 [==============================] - 0s 156ms/step - loss: 0.0202 - accuracy: 0.0000e+00 - val_loss: 0.0255 - val_accuracy: 0.0000e+00\n",
      "Epoch 33/100\n",
      "1/1 [==============================] - 0s 165ms/step - loss: 0.0203 - accuracy: 0.0000e+00 - val_loss: 0.0258 - val_accuracy: 0.0000e+00\n",
      "Epoch 34/100\n",
      "1/1 [==============================] - 0s 164ms/step - loss: 0.0216 - accuracy: 0.0000e+00 - val_loss: 0.0267 - val_accuracy: 0.0000e+00\n",
      "Epoch 35/100\n",
      "1/1 [==============================] - 0s 164ms/step - loss: 0.0204 - accuracy: 0.0026 - val_loss: 0.0282 - val_accuracy: 0.0000e+00\n",
      "Epoch 36/100\n",
      "1/1 [==============================] - 0s 160ms/step - loss: 0.0191 - accuracy: 0.0000e+00 - val_loss: 0.0300 - val_accuracy: 0.0000e+00\n",
      "Epoch 37/100\n",
      "1/1 [==============================] - 0s 164ms/step - loss: 0.0193 - accuracy: 0.0000e+00 - val_loss: 0.0320 - val_accuracy: 0.0000e+00\n",
      "Epoch 38/100\n",
      "1/1 [==============================] - 0s 161ms/step - loss: 0.0177 - accuracy: 0.0000e+00 - val_loss: 0.0340 - val_accuracy: 0.0000e+00\n",
      "Epoch 39/100\n",
      "1/1 [==============================] - 0s 169ms/step - loss: 0.0181 - accuracy: 0.0000e+00 - val_loss: 0.0359 - val_accuracy: 0.0000e+00\n",
      "Epoch 40/100\n",
      "1/1 [==============================] - 0s 164ms/step - loss: 0.0179 - accuracy: 0.0026 - val_loss: 0.0374 - val_accuracy: 0.0000e+00\n",
      "Epoch 41/100\n",
      "1/1 [==============================] - 0s 164ms/step - loss: 0.0179 - accuracy: 0.0000e+00 - val_loss: 0.0384 - val_accuracy: 0.0000e+00\n",
      "Epoch 42/100\n",
      "1/1 [==============================] - 0s 158ms/step - loss: 0.0192 - accuracy: 0.0000e+00 - val_loss: 0.0389 - val_accuracy: 0.0000e+00\n",
      "Epoch 43/100\n",
      "1/1 [==============================] - 0s 169ms/step - loss: 0.0192 - accuracy: 0.0000e+00 - val_loss: 0.0388 - val_accuracy: 0.0000e+00\n",
      "Epoch 44/100\n",
      "1/1 [==============================] - 0s 176ms/step - loss: 0.0188 - accuracy: 0.0000e+00 - val_loss: 0.0382 - val_accuracy: 0.0000e+00\n",
      "Epoch 45/100\n",
      "1/1 [==============================] - 0s 164ms/step - loss: 0.0184 - accuracy: 0.0000e+00 - val_loss: 0.0371 - val_accuracy: 0.0000e+00\n",
      "Epoch 46/100\n",
      "1/1 [==============================] - 0s 176ms/step - loss: 0.0184 - accuracy: 0.0000e+00 - val_loss: 0.0357 - val_accuracy: 0.0000e+00\n",
      "Epoch 47/100\n",
      "1/1 [==============================] - 0s 193ms/step - loss: 0.0187 - accuracy: 0.0000e+00 - val_loss: 0.0342 - val_accuracy: 0.0000e+00\n",
      "Epoch 48/100\n",
      "1/1 [==============================] - 0s 162ms/step - loss: 0.0182 - accuracy: 0.0000e+00 - val_loss: 0.0327 - val_accuracy: 0.0000e+00\n",
      "Epoch 49/100\n",
      "1/1 [==============================] - 0s 168ms/step - loss: 0.0187 - accuracy: 0.0000e+00 - val_loss: 0.0313 - val_accuracy: 0.0000e+00\n",
      "Epoch 50/100\n",
      "1/1 [==============================] - 0s 168ms/step - loss: 0.0176 - accuracy: 0.0000e+00 - val_loss: 0.0303 - val_accuracy: 0.0000e+00\n",
      "Epoch 51/100\n",
      "1/1 [==============================] - 0s 162ms/step - loss: 0.0181 - accuracy: 0.0000e+00 - val_loss: 0.0295 - val_accuracy: 0.0000e+00\n",
      "Epoch 52/100\n",
      "1/1 [==============================] - 0s 169ms/step - loss: 0.0170 - accuracy: 0.0000e+00 - val_loss: 0.0292 - val_accuracy: 0.0000e+00\n",
      "Epoch 53/100\n",
      "1/1 [==============================] - 0s 168ms/step - loss: 0.0183 - accuracy: 0.0000e+00 - val_loss: 0.0291 - val_accuracy: 0.0000e+00\n",
      "Epoch 54/100\n",
      "1/1 [==============================] - 0s 166ms/step - loss: 0.0180 - accuracy: 0.0026 - val_loss: 0.0295 - val_accuracy: 0.0000e+00\n",
      "Epoch 55/100\n",
      "1/1 [==============================] - 0s 157ms/step - loss: 0.0170 - accuracy: 0.0000e+00 - val_loss: 0.0302 - val_accuracy: 0.0000e+00\n",
      "Epoch 56/100\n",
      "1/1 [==============================] - 0s 176ms/step - loss: 0.0170 - accuracy: 0.0026 - val_loss: 0.0312 - val_accuracy: 0.0000e+00\n",
      "Epoch 57/100\n",
      "1/1 [==============================] - 0s 169ms/step - loss: 0.0172 - accuracy: 0.0026 - val_loss: 0.0323 - val_accuracy: 0.0000e+00\n",
      "Epoch 58/100\n",
      "1/1 [==============================] - 0s 166ms/step - loss: 0.0174 - accuracy: 0.0000e+00 - val_loss: 0.0335 - val_accuracy: 0.0000e+00\n",
      "Epoch 59/100\n",
      "1/1 [==============================] - 0s 204ms/step - loss: 0.0170 - accuracy: 0.0026 - val_loss: 0.0345 - val_accuracy: 0.0000e+00\n",
      "Epoch 60/100\n",
      "1/1 [==============================] - 0s 202ms/step - loss: 0.0166 - accuracy: 0.0026 - val_loss: 0.0349 - val_accuracy: 0.0000e+00\n",
      "Epoch 61/100\n",
      "1/1 [==============================] - 0s 197ms/step - loss: 0.0168 - accuracy: 0.0000e+00 - val_loss: 0.0350 - val_accuracy: 0.0000e+00\n",
      "Epoch 62/100\n",
      "1/1 [==============================] - 0s 155ms/step - loss: 0.0175 - accuracy: 0.0000e+00 - val_loss: 0.0345 - val_accuracy: 0.0000e+00\n",
      "Epoch 63/100\n",
      "1/1 [==============================] - 0s 163ms/step - loss: 0.0163 - accuracy: 0.0026 - val_loss: 0.0337 - val_accuracy: 0.0000e+00\n",
      "Epoch 64/100\n",
      "1/1 [==============================] - 0s 192ms/step - loss: 0.0169 - accuracy: 0.0026 - val_loss: 0.0325 - val_accuracy: 0.0000e+00\n",
      "Epoch 65/100\n",
      "1/1 [==============================] - 0s 180ms/step - loss: 0.0168 - accuracy: 0.0026 - val_loss: 0.0317 - val_accuracy: 0.0000e+00\n",
      "Epoch 66/100\n",
      "1/1 [==============================] - 0s 161ms/step - loss: 0.0173 - accuracy: 0.0026 - val_loss: 0.0324 - val_accuracy: 0.0000e+00\n",
      "Epoch 67/100\n",
      "1/1 [==============================] - 0s 152ms/step - loss: 0.0166 - accuracy: 0.0026 - val_loss: 0.0335 - val_accuracy: 0.0000e+00\n",
      "Epoch 68/100\n",
      "1/1 [==============================] - 0s 186ms/step - loss: 0.0172 - accuracy: 0.0000e+00 - val_loss: 0.0346 - val_accuracy: 0.0000e+00\n",
      "Epoch 69/100\n",
      "1/1 [==============================] - 0s 174ms/step - loss: 0.0165 - accuracy: 0.0000e+00 - val_loss: 0.0352 - val_accuracy: 0.0000e+00\n",
      "Epoch 70/100\n",
      "1/1 [==============================] - 0s 176ms/step - loss: 0.0177 - accuracy: 0.0026 - val_loss: 0.0349 - val_accuracy: 0.0000e+00\n",
      "Epoch 71/100\n",
      "1/1 [==============================] - 0s 170ms/step - loss: 0.0158 - accuracy: 0.0026 - val_loss: 0.0345 - val_accuracy: 0.0000e+00\n",
      "Epoch 72/100\n",
      "1/1 [==============================] - 0s 165ms/step - loss: 0.0167 - accuracy: 0.0026 - val_loss: 0.0341 - val_accuracy: 0.0000e+00\n",
      "Epoch 73/100\n",
      "1/1 [==============================] - 0s 166ms/step - loss: 0.0170 - accuracy: 0.0026 - val_loss: 0.0336 - val_accuracy: 0.0000e+00\n",
      "Epoch 74/100\n",
      "1/1 [==============================] - 0s 191ms/step - loss: 0.0175 - accuracy: 0.0026 - val_loss: 0.0333 - val_accuracy: 0.0000e+00\n",
      "Epoch 75/100\n",
      "1/1 [==============================] - 0s 207ms/step - loss: 0.0161 - accuracy: 0.0026 - val_loss: 0.0330 - val_accuracy: 0.0000e+00\n",
      "Epoch 76/100\n",
      "1/1 [==============================] - 0s 193ms/step - loss: 0.0165 - accuracy: 0.0026 - val_loss: 0.0328 - val_accuracy: 0.0000e+00\n",
      "Epoch 77/100\n",
      "1/1 [==============================] - 0s 206ms/step - loss: 0.0160 - accuracy: 0.0026 - val_loss: 0.0328 - val_accuracy: 0.0000e+00\n",
      "Epoch 78/100\n",
      "1/1 [==============================] - 0s 224ms/step - loss: 0.0164 - accuracy: 0.0000e+00 - val_loss: 0.0327 - val_accuracy: 0.0000e+00\n",
      "Epoch 79/100\n",
      "1/1 [==============================] - 0s 218ms/step - loss: 0.0155 - accuracy: 0.0026 - val_loss: 0.0325 - val_accuracy: 0.0000e+00\n",
      "Epoch 80/100\n",
      "1/1 [==============================] - 0s 199ms/step - loss: 0.0169 - accuracy: 0.0000e+00 - val_loss: 0.0324 - val_accuracy: 0.0000e+00\n",
      "Epoch 81/100\n",
      "1/1 [==============================] - 0s 197ms/step - loss: 0.0159 - accuracy: 0.0026 - val_loss: 0.0327 - val_accuracy: 0.0000e+00\n",
      "Epoch 82/100\n",
      "1/1 [==============================] - 0s 177ms/step - loss: 0.0165 - accuracy: 0.0000e+00 - val_loss: 0.0328 - val_accuracy: 0.0000e+00\n",
      "Epoch 83/100\n",
      "1/1 [==============================] - 0s 167ms/step - loss: 0.0160 - accuracy: 0.0026 - val_loss: 0.0328 - val_accuracy: 0.0000e+00\n",
      "Epoch 84/100\n",
      "1/1 [==============================] - 0s 171ms/step - loss: 0.0159 - accuracy: 0.0026 - val_loss: 0.0323 - val_accuracy: 0.0000e+00\n",
      "Epoch 85/100\n",
      "1/1 [==============================] - 0s 174ms/step - loss: 0.0161 - accuracy: 0.0026 - val_loss: 0.0318 - val_accuracy: 0.0000e+00\n",
      "Epoch 86/100\n",
      "1/1 [==============================] - 0s 169ms/step - loss: 0.0159 - accuracy: 0.0000e+00 - val_loss: 0.0314 - val_accuracy: 0.0000e+00\n",
      "Epoch 87/100\n",
      "1/1 [==============================] - 0s 170ms/step - loss: 0.0157 - accuracy: 0.0000e+00 - val_loss: 0.0313 - val_accuracy: 0.0000e+00\n",
      "Epoch 88/100\n",
      "1/1 [==============================] - 0s 168ms/step - loss: 0.0164 - accuracy: 0.0026 - val_loss: 0.0317 - val_accuracy: 0.0000e+00\n",
      "Epoch 89/100\n",
      "1/1 [==============================] - 0s 168ms/step - loss: 0.0162 - accuracy: 0.0026 - val_loss: 0.0323 - val_accuracy: 0.0000e+00\n",
      "Epoch 90/100\n",
      "1/1 [==============================] - 0s 185ms/step - loss: 0.0157 - accuracy: 0.0000e+00 - val_loss: 0.0329 - val_accuracy: 0.0000e+00\n",
      "Epoch 91/100\n",
      "1/1 [==============================] - 0s 172ms/step - loss: 0.0159 - accuracy: 0.0026 - val_loss: 0.0336 - val_accuracy: 0.0000e+00\n",
      "Epoch 92/100\n",
      "1/1 [==============================] - 0s 175ms/step - loss: 0.0161 - accuracy: 0.0026 - val_loss: 0.0344 - val_accuracy: 0.0000e+00\n",
      "Epoch 93/100\n",
      "1/1 [==============================] - 0s 178ms/step - loss: 0.0151 - accuracy: 0.0026 - val_loss: 0.0359 - val_accuracy: 0.0000e+00\n",
      "Epoch 94/100\n",
      "1/1 [==============================] - 0s 165ms/step - loss: 0.0167 - accuracy: 0.0026 - val_loss: 0.0389 - val_accuracy: 0.0000e+00\n",
      "Epoch 95/100\n",
      "1/1 [==============================] - 0s 184ms/step - loss: 0.0154 - accuracy: 0.0026 - val_loss: 0.0439 - val_accuracy: 0.0000e+00\n",
      "Epoch 96/100\n",
      "1/1 [==============================] - 0s 197ms/step - loss: 0.0172 - accuracy: 0.0026 - val_loss: 0.0476 - val_accuracy: 0.0000e+00\n",
      "Epoch 97/100\n",
      "1/1 [==============================] - 0s 178ms/step - loss: 0.0162 - accuracy: 0.0026 - val_loss: 0.0438 - val_accuracy: 0.0000e+00\n",
      "Epoch 98/100\n",
      "1/1 [==============================] - 0s 202ms/step - loss: 0.0161 - accuracy: 0.0000e+00 - val_loss: 0.0407 - val_accuracy: 0.0000e+00\n",
      "Epoch 99/100\n",
      "1/1 [==============================] - 0s 197ms/step - loss: 0.0153 - accuracy: 0.0026 - val_loss: 0.0395 - val_accuracy: 0.0000e+00\n",
      "Epoch 100/100\n",
      "1/1 [==============================] - 0s 199ms/step - loss: 0.0157 - accuracy: 0.0026 - val_loss: 0.0394 - val_accuracy: 0.0000e+00\n"
     ]
    }
   ],
   "source": [
    "history = model.fit(x_train_input,y_train_input, validation_split=0.3,batch_size=len(x_train_input), epochs=100)"
   ]
  },
  {
   "cell_type": "code",
   "execution_count": 398,
   "metadata": {},
   "outputs": [],
   "source": [
    "def draw(history):\n",
    "    val_acc = np.mean(history.history['val_accuracy'])\n",
    "    print(\"\\n%s: %.2f%%\" % ('val_acc', val_acc*100))\n",
    "    plt.plot(history.history['accuracy'])\n",
    "    plt.plot(history.history['val_accuracy'])\n",
    "    plt.plot(history.history['loss'])\n",
    "    plt.plot(history.history['val_loss'])\n",
    "    plt.title('model accuracy')\n",
    "    plt.ylabel('accuracy')\n",
    "    plt.xlabel('epoch')\n",
    "    plt.legend(['train', 'validation','train_loss','val_loss'], loc='upper left')\n",
    "\n",
    "    # plt.legend(['train','loss'], loc='upper left')\n",
    "    plt.show()"
   ]
  },
  {
   "cell_type": "code",
   "execution_count": 399,
   "metadata": {},
   "outputs": [
    {
     "name": "stdout",
     "output_type": "stream",
     "text": [
      "\n",
      "val_acc: 0.00%\n"
     ]
    },
    {
     "data": {
      "image/png": "[encoded data removed]",
      "text/plain": [
       "<Figure size 432x288 with 1 Axes>"
      ]
     },
     "metadata": {
      "needs_background": "light"
     },
     "output_type": "display_data"
    }
   ],
   "source": [
    "draw(history)\n",
    "## Perdict"
   ]
  },
  {
   "cell_type": "code",
   "execution_count": null,
   "metadata": {},
   "outputs": [],
   "source": [
    "# serialize model to JSON\n",
    "model_json = model.to_json()\n",
    "with open(filepath+\"model.json\", \"w\") as json_file:\n",
    "    json_file.write(model_json)\n",
    "# serialize weights to HDF5\n",
    "model.save_weights(filepath+\"model.json.h5\")\n",
    "print(\"Saved model to disk\")"
   ]
  },
  {
   "cell_type": "code",
   "execution_count": 308,
   "metadata": {},
   "outputs": [],
   "source": [
    "x_test_mean = df[train_index:].copy()\n",
    "x_test_mean = x_test_mean.drop(columns=['sales'])"
   ]
  },
  {
   "cell_type": "code",
   "execution_count": 309,
   "metadata": {},
   "outputs": [],
   "source": [
    "x_test_mean = x_test_mean.groupby(['date'],as_index=False).agg({'store_nbr':'mean', 'family':'mean','onpromotion':'mean','holiday':'mean','oil':'mean'})"
   ]
  },
  {
   "cell_type": "code",
   "execution_count": 310,
   "metadata": {},
   "outputs": [],
   "source": [
    "x_test_mean = pd.concat([x_train[-30:-1],x_test_mean],ignore_index=True)"
   ]
  },
  {
   "cell_type": "code",
   "execution_count": 363,
   "metadata": {},
   "outputs": [
    {
     "name": "stdout",
     "output_type": "stream",
     "text": [
      "         store_nbr  family  onpromotion  holiday       oil\n",
      "1048575        0.0     0.0          0.0      0.0  0.012991\n"
     ]
    }
   ],
   "source": [
    "x_test = df[train_index:].copy()\n",
    "# print(x_test_mean.keys)\n",
    "# print(pd.concat([x_test_mean[0:29],x_test[0:1]]))\n",
    "# print(x_test.iloc[0:1])"
   ]
  },
  {
   "cell_type": "code",
   "execution_count": 370,
   "metadata": {},
   "outputs": [
    {
     "name": "stdout",
     "output_type": "stream",
     "text": [
      "    store_nbr  family  onpromotion  holiday       oil\n",
      "15        0.5     0.5     0.004031      0.0  0.735920\n",
      "16        0.5     0.5     0.002014      0.0  0.483104\n",
      "17        0.5     0.5     0.003828      0.0  0.467668\n",
      "18        0.5     0.5     0.000440      0.0  0.409031\n",
      "19        0.5     0.5     0.000394      0.0  0.409031\n",
      "20        0.5     0.5     0.000349      0.0  0.484355\n",
      "21        0.5     0.5     0.000343      1.0  0.445974\n",
      "22        0.5     0.5     0.000447      0.0  0.428869\n",
      "23        0.5     0.5     0.002007      0.0  0.445974\n",
      "24        0.5     0.5     0.003742      0.0  0.457238\n",
      "25        0.5     0.5     0.000499      0.0  0.409031\n",
      "26        0.5     0.5     0.000532      1.0  0.409031\n",
      "27        0.5     0.5     0.000460      0.0  0.477263\n",
      "28        0.5     0.5     0.000424      0.0  0.446809\n",
      "29        0.5     0.5     0.026529      0.0  0.012991\n",
      "30        0.5     0.5     0.006519      0.0  0.017167\n",
      "31        0.5     0.5     0.011968      0.0  0.040674\n",
      "32        0.5     0.5     0.007483      0.0  0.780923\n",
      "33        0.5     0.5     0.008264      0.0  0.780923\n",
      "34        0.5     0.5     0.007036      0.0  0.022116\n",
      "35        0.5     0.5     0.008943      0.0  0.026137\n",
      "36        0.5     0.5     0.014333      0.0  0.038509\n",
      "37        0.5     0.5     0.007182      1.0  0.019796\n",
      "38        0.5     0.5     0.012154      0.0  0.026137\n",
      "39        0.5     0.5     0.007871      0.0  0.780923\n",
      "40        0.5     0.5     0.008945      0.0  0.780923\n",
      "41        0.5     0.5     0.007374      0.0  0.006805\n",
      "42        0.5     0.5     0.009448      0.0  0.007733\n",
      "43        0.5     0.5     0.018669      0.0  0.000000          store_nbr  family  onpromotion  holiday       oil\n",
      "1077086   0.150943     1.0          0.0      0.0  0.020105\n",
      "(28512, 30, 5)\n"
     ]
    }
   ],
   "source": [
    "x_test = df[train_index:].copy()\n",
    "x_test_input = []\n",
    "for i in range(len(x_test['date'])):\n",
    "    end = x_test_mean.index[x_test_mean['date']==x_test['date'].iloc[i]].tolist()[0]\n",
    "    start = end - 29\n",
    "    x_test_input.append(pd.concat([x_test_mean[start:end].drop(columns=[\"date\"]),x_test[i:i+1].drop(columns=[\"date\",\"sales\"])]).values)\n",
    "    # print(start,end)\n",
    "    # if i==28511:\n",
    "    #     print(x_test_mean[start:end].drop(columns=[\"date\"]),x_test[i:i+1].drop(columns=[\"date\",\"sales\"]))\n",
    "   \n",
    "x_test_input=np.array(x_test_input)\n",
    "print(x_test_input.shape)"
   ]
  },
  {
   "cell_type": "code",
   "execution_count": 371,
   "metadata": {},
   "outputs": [],
   "source": [
    "# x_test_input = x_test_input.\n",
    "# x_test_input = np.asarray(x_test_input).astype(np.float32)\n",
    "y_pred = model.predict(x_test_input)\n",
    "print(y_pred)"
   ]
  },
  {
   "cell_type": "code",
   "execution_count": 374,
   "metadata": {},
   "outputs": [],
   "source": [
    "y_pred = scaler.inverse_transform(y_pred)\n",
    "print(y_pred)"
   ]
  },
  {
   "cell_type": "code",
   "execution_count": 391,
   "metadata": {},
   "outputs": [
    {
     "name": "stderr",
     "output_type": "stream",
     "text": [
      "C:\\ProgramData\\Anaconda3\\envs\\ProjectPy37\\lib\\site-packages\\ipykernel_launcher.py:3: SettingWithCopyWarning: \n",
      "A value is trying to be set on a copy of a slice from a DataFrame.\n",
      "Try using .loc[row_indexer,col_indexer] = value instead\n",
      "\n",
      "See the caveats in the documentation: https://pandas.pydata.org/pandas-docs/stable/user_guide/indexing.html#returning-a-view-versus-a-copy\n",
      "  This is separate from the ipykernel package so we can avoid doing imports until\n"
     ]
    }
   ],
   "source": [
    "test_data = pd.read_csv('test.csv')\n",
    "submit = test_data[['id']]\n",
    "submit['sales'] = y_pred\n",
    "# print(test_data[['id']])"
   ]
  },
  {
   "cell_type": "code",
   "execution_count": 392,
   "metadata": {},
   "outputs": [
    {
     "data": {
      "text/plain": [
       "<bound method NDFrame.keys of             id       sales\n",
       "0      3000888  183.252731\n",
       "1      3000889  183.266754\n",
       "2      3000890  183.281006\n",
       "3      3000891  183.293854\n",
       "4      3000892  183.313461\n",
       "...        ...         ...\n",
       "28507  3029395  172.213181\n",
       "28508  3029396  172.242371\n",
       "28509  3029397  172.270172\n",
       "28510  3029398  172.293839\n",
       "28511  3029399  172.327698\n",
       "\n",
       "[28512 rows x 2 columns]>"
      ]
     },
     "execution_count": 392,
     "metadata": {},
     "output_type": "execute_result"
    }
   ],
   "source": []
  },
  {
   "cell_type": "code",
   "execution_count": 394,
   "metadata": {},
   "outputs": [],
   "source": [
    "submit.to_csv(filepath+\"submit.csv\",index=False,sep=',')\n",
    "import zipfile\n",
    "with zipfile.ZipFile(filepath+'submit.zip', 'w') as zf:\n",
    "    zf.write(filepath+'submit.csv')"
   ]
  },
  {
   "cell_type": "code",
   "execution_count": null,
   "metadata": {},
   "outputs": [],
   "source": []
  }
 ],
 "metadata": {
  "interpreter": {
   "hash": "c8c472b424fe76d5858727f5e7c739de7bd74a4cb37b6d5f5e59b92d3371aa43"
  },
  "kernelspec": {
   "display_name": "Python 3.7.11 64-bit ('DeepLearn': conda)",
   "language": "python",
   "name": "python3"
  },
  "language_info": {
   "codemirror_mode": {
    "name": "ipython",
    "version": 3
   },
   "file_extension": ".py",
   "mimetype": "text/x-python",
   "name": "python",
   "nbconvert_exporter": "python",
   "pygments_lexer": "ipython3",
   "version": "3.7.10"
  },
  "orig_nbformat": 4
 },
 "nbformat": 4,
 "nbformat_minor": 2
}
