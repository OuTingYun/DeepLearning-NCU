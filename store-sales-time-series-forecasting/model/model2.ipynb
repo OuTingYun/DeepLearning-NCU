{
 "cells": [
  {
   "cell_type": "markdown",
   "metadata": {},
   "source": [
    "# Loading"
   ]
  },
  {
   "cell_type": "code",
   "execution_count": 1,
   "metadata": {},
   "outputs": [],
   "source": [
    "# Computational imports\n",
    "import numpy as np   # Library for n-dimensional arrays\n",
    "import pandas as pd  # Library for dataframes (structured data)\n",
    "\n",
    "# Helper imports\n",
    "import os \n",
    "import warnings\n",
    "# import pandas_datareader as web\n",
    "import datetime as dt\n",
    "\n",
    "# ML/DL imports\n",
    "from tensorflow.keras.models import Sequential\n",
    "from tensorflow.keras.preprocessing.sequence import TimeseriesGenerator\n",
    "from tensorflow.keras.layers import LSTM, Dense, Dropout, RepeatVector, TimeDistributed,GRU,Embedding\n",
    "from sklearn.preprocessing import MinMaxScaler, OrdinalEncoder\n",
    "from sklearn.metrics import mean_squared_error, mean_squared_log_error\n",
    "from sklearn.model_selection import train_test_split\n",
    "from tensorflow.keras.callbacks import ModelCheckpoint, EarlyStopping\n",
    "\n",
    "# Plotting imports\n",
    "import matplotlib.pyplot as plt\n",
    "import matplotlib.dates as dates\n",
    "# import plotly.express as px\n",
    "# import plotly.graph_objects as go\n",
    "# import plotly.figure_factory as ff\n",
    "# from plotly.subplots import make_subplots\n",
    "# from plotly.offline import init_notebook_mode, iplot\n",
    "\n",
    "# Set seeds to make the experiment more reproducible.\n",
    "from numpy.random import seed\n",
    "import json\n",
    "seed(1)"
   ]
  },
  {
   "cell_type": "code",
   "execution_count": 2,
   "metadata": {},
   "outputs": [],
   "source": [
    "filepath='model2/'"
   ]
  },
  {
   "cell_type": "code",
   "execution_count": 3,
   "metadata": {},
   "outputs": [
    {
     "name": "stderr",
     "output_type": "stream",
     "text": [
      "C:\\Users\\User\\AppData\\Roaming\\Python\\Python37\\site-packages\\numpy\\lib\\arraysetops.py:569: FutureWarning: elementwise comparison failed; returning scalar instead, but in the future will perform elementwise comparison\n",
      "  mask |= (ar1 == a)\n"
     ]
    }
   ],
   "source": [
    "train_data = pd.read_csv('train.csv', index_col=0)\n",
    "test_data = pd.read_csv('test.csv', index_col=0)\n",
    "data_oil = pd.read_csv('oil.csv')\n",
    "samp_subm = pd.read_csv('sample_submission.csv')\n",
    "data_holi = pd.read_csv('holidays_events.csv')\n",
    "data_store =  pd.read_csv('stores.csv')\n",
    "data_trans = pd.read_csv('transactions.csv')\n"
   ]
  },
  {
   "cell_type": "code",
   "execution_count": 4,
   "metadata": {},
   "outputs": [],
   "source": [
    "## holiday 重複的部分做處理\n",
    "#  type：{'holiday':3,'transfer':4,'addition:'0','bridge':1,'work day':5,'event':2} nan=6\n",
    "#  local:{'local':0,'region':2,'nation':1} nan=3\n",
    "data_holi = data_holi[['date','type','locale']]\n",
    "ordinal_encoder = OrdinalEncoder()\n",
    "c = ['type','locale']\n",
    "data_holi[c] = ordinal_encoder.fit_transform(data_holi[c])\n",
    "data_holi[c]=data_holi[c].astype(int)\n",
    "data_holi = data_holi.groupby(['date'],as_index=False).agg({'type':'mean','locale':'first'})"
   ]
  },
  {
   "cell_type": "code",
   "execution_count": 5,
   "metadata": {},
   "outputs": [],
   "source": [
    "all_data = pd.concat([train_data,test_data],ignore_index=True)\n",
    "all_data['date'] =  pd.to_datetime(all_data['date'])\n",
    "data_holi['date'] = pd.to_datetime(data_holi['date'])\n",
    "data_oil['date'] = pd.to_datetime(data_oil['date'])"
   ]
  },
  {
   "cell_type": "code",
   "execution_count": 6,
   "metadata": {},
   "outputs": [],
   "source": [
    "df_train1 = all_data.merge(data_holi, on = 'date', how='left')\n",
    "df_train1 = df_train1.merge(data_oil, on = 'date', how='left')\n",
    "df_train1 = df_train1.merge(data_store, on = 'store_nbr', how='left')\n",
    "df_train1 = df_train1.rename(columns = {\"type_x\" : \"holiday_type\", \"type_y\" : \"store_type\"})\n",
    "df_train1['day_of_week'] = df_train1['date'].dt.day_name()\n"
   ]
  },
  {
   "cell_type": "code",
   "execution_count": 7,
   "metadata": {},
   "outputs": [],
   "source": [
    "\n",
    "# df['year'] = df['date'].dt.year\n",
    "# df['month'] = df['date'].dt.month\n",
    "# df['week'] = df['date'].dt.isocalendar().week\n",
    "# df['quarter'] = df['date'].dt.quarter\n",
    "\n",
    "\n",
    "train_columns = ['date','store_nbr','family','sales','onpromotion','holiday_type','locale','dcoilwtico','store_type','cluster','day_of_week']\n",
    "df = df_train1[train_columns]"
   ]
  },
  {
   "cell_type": "code",
   "execution_count": 8,
   "metadata": {},
   "outputs": [],
   "source": [
    "num_test,num_train = len(test_data),len(train_data)"
   ]
  },
  {
   "cell_type": "code",
   "execution_count": 9,
   "metadata": {},
   "outputs": [],
   "source": [
    "df_copy = df.copy()"
   ]
  },
  {
   "cell_type": "markdown",
   "metadata": {},
   "source": [
    "# EDA\n",
    "df = train + test"
   ]
  },
  {
   "cell_type": "markdown",
   "metadata": {},
   "source": [
    "### 圖示化\n"
   ]
  },
  {
   "cell_type": "code",
   "execution_count": 10,
   "metadata": {},
   "outputs": [],
   "source": [
    "\n",
    "# buf = df[['date','store_nbr','sales','family']].groupby(['store_nbr','family','date'],as_index = False).agg({\"sales\":\"mean\"})\n",
    "# store = []\n",
    "# for i in range(1,55):\n",
    "#     f = list(buf[buf['store_nbr']==i].drop(columns = ['store_nbr']).groupby(['family']))\n",
    "#     store1 = f[0][1].drop(columns=['family'])\n",
    "#     for i in range(1,33):\n",
    "#         store1 = store1.merge(f[i][1].drop(columns=['family']), on = 'date', how='left')\n",
    "#         store1 = store1.rename(columns = {\"sales_x\": \"sales\" ,\"sales_y\" : f[i][0]})\n",
    "#     store1 = store1.rename(columns = {\"sales\": f[0][0]})  \n",
    "#     store.append(store1)\n"
   ]
  },
  {
   "cell_type": "markdown",
   "metadata": {},
   "source": [
    "### Transform"
   ]
  },
  {
   "cell_type": "code",
   "execution_count": 11,
   "metadata": {},
   "outputs": [],
   "source": [
    "df =df_copy.copy()"
   ]
  },
  {
   "cell_type": "code",
   "execution_count": 12,
   "metadata": {},
   "outputs": [],
   "source": [
    "# df.info()"
   ]
  },
  {
   "cell_type": "code",
   "execution_count": 13,
   "metadata": {},
   "outputs": [],
   "source": [
    "# df.isnull().sum()"
   ]
  },
  {
   "cell_type": "code",
   "execution_count": 14,
   "metadata": {},
   "outputs": [],
   "source": [
    "df['holiday_type'].fillna(6,inplace=True)\n",
    "df['locale'].fillna(3,inplace=True)\n",
    "df['dcoilwtico'].fillna(df['dcoilwtico'].mean(),inplace=True)\n",
    "# df.isnull().sum()"
   ]
  },
  {
   "cell_type": "code",
   "execution_count": 15,
   "metadata": {},
   "outputs": [
    {
     "name": "stdout",
     "output_type": "stream",
     "text": [
      "['family', 'store_type', 'day_of_week'] ['store_nbr', 'sales', 'onpromotion', 'holiday_type', 'locale', 'dcoilwtico', 'cluster']\n"
     ]
    }
   ],
   "source": [
    "object_cols = [cname for cname in df.columns if df[cname].dtype == \"object\"]\n",
    "number_cols = [cname for cname in df.columns if df[cname].dtype!=\"object\" and cname!='date']\n",
    "# buf[col] = ordinal_encoder.fit_transform(buf[col])\n",
    "print(object_cols,number_cols)"
   ]
  },
  {
   "cell_type": "code",
   "execution_count": 16,
   "metadata": {},
   "outputs": [],
   "source": [
    "ordinal_encoder = OrdinalEncoder()\n",
    "df[object_cols] = ordinal_encoder.fit_transform(df[object_cols])"
   ]
  },
  {
   "cell_type": "markdown",
   "metadata": {},
   "source": [
    "### Train Test data"
   ]
  },
  {
   "cell_type": "code",
   "execution_count": 17,
   "metadata": {},
   "outputs": [],
   "source": [
    "condition ={\n",
    "    'store_nbr':'mean',#(都一樣)\n",
    "    'family':'mean',#(都一樣)\n",
    "    'onpromotion':'mean',\n",
    "    'holiday_type':'mean', #ok\n",
    "    'locale':'mean',#ok\n",
    "    'dcoilwtico':'mean',#ok\n",
    "    'store_type':'mean',#(都一樣)\n",
    "    'cluster':'mean',\n",
    "    'day_of_week':'mean'\n",
    "    }"
   ]
  },
  {
   "cell_type": "code",
   "execution_count": 18,
   "metadata": {},
   "outputs": [],
   "source": [
    "train_x = df[:num_train].copy()\n",
    "train_condition = condition.copy()\n",
    "train_condition['sales'] ='mean'\n",
    "train_x = train_x.groupby(['date'],as_index=False).agg(train_condition)#ok\n"
   ]
  },
  {
   "cell_type": "code",
   "execution_count": 19,
   "metadata": {},
   "outputs": [],
   "source": [
    "# new_buf = pd.DataFrame()\n",
    "# for i in range(0,33):\n",
    "#     f = df[df['family']==i]\n",
    "#     f[\"sales\"] = scaler.fit_transform(f[\"sales\"].values.reshape(-1,1))\n",
    "#     new_buf = pd.concat([new_buf,f],axis=0)\n",
    "# df = new_buf.sort_index()\n",
    "scaler = MinMaxScaler(feature_range=(0,1))\n",
    "for col in number_cols+object_cols:\n",
    "    # if col==\"sales\":continue\n",
    "    df[col] = scaler.fit_transform(df[col].values.reshape(-1,1))"
   ]
  },
  {
   "cell_type": "code",
   "execution_count": 20,
   "metadata": {},
   "outputs": [
    {
     "name": "stderr",
     "output_type": "stream",
     "text": [
      "C:\\ProgramData\\Anaconda3\\envs\\ProjectPy37\\lib\\site-packages\\pandas\\core\\frame.py:4315: SettingWithCopyWarning: \n",
      "A value is trying to be set on a copy of a slice from a DataFrame\n",
      "\n",
      "See the caveats in the documentation: https://pandas.pydata.org/pandas-docs/stable/user_guide/indexing.html#returning-a-view-versus-a-copy\n",
      "  errors=errors,\n"
     ]
    }
   ],
   "source": [
    "\n",
    "train_y = train_x[['date','sales']]\n",
    "train_x.drop(columns=['date','sales'],inplace=True)\n",
    "train_y.drop(columns=['date'],inplace=True)"
   ]
  },
  {
   "cell_type": "code",
   "execution_count": 21,
   "metadata": {},
   "outputs": [],
   "source": [
    "history_input = 7\n",
    "train_input = []\n",
    "train_output = []\n",
    "for i in range(len(train_x)-history_input+1):\n",
    "    train_input.append(train_x[i:i+history_input].values)\n",
    "    train_output.append(train_y.iloc[i+history_input-1])\n",
    "train_input=np.array(train_input)\n",
    "train_output=np.array(train_output)\n",
    "# print(x_train_input.shape)\n",
    "# print(y_train_input.shape)"
   ]
  },
  {
   "cell_type": "code",
   "execution_count": 22,
   "metadata": {},
   "outputs": [],
   "source": [
    "# def Make_Model_GRU():    "
   ]
  },
  {
   "cell_type": "code",
   "execution_count": 23,
   "metadata": {},
   "outputs": [],
   "source": [
    "def Multi_Step_LSTM_model():\n",
    "    \n",
    "    # Use Keras sequential model\n",
    "    model = Sequential()    \n",
    "    \n",
    "    # First LSTM layer with Dropout regularisation; Set return_sequences to True to feed outputs to next layer\n",
    "    model.add(LSTM(units = 50, activation='relu', return_sequences = True, input_shape = train_input[0].shape )) \n",
    "    model.add(Dropout(0.2))\n",
    "    \n",
    "    # Second LSTM layer with Dropout regularisation; Set return_sequences to True to feed outputs to next layer\n",
    "    model.add(LSTM(units = 50,  activation='relu', return_sequences = True))                                    \n",
    "    model.add(Dropout(0.2))\n",
    "    \n",
    "    # Final LSTM layer with Dropout regularisation; Set return_sequences to False since now we will be predicting with the output layer\n",
    "    model.add(LSTM(units = 50))\n",
    "    model.add(Dropout(0.2))\n",
    "    \n",
    "    # The output layer with linear activation to predict Open stock price\n",
    "    model.add(Dense(units=1, activation = \"linear\"))\n",
    "    \n",
    "    return model"
   ]
  },
  {
   "cell_type": "code",
   "execution_count": null,
   "metadata": {},
   "outputs": [],
   "source": []
  },
  {
   "cell_type": "code",
   "execution_count": 24,
   "metadata": {},
   "outputs": [
    {
     "name": "stdout",
     "output_type": "stream",
     "text": [
      "Model: \"sequential\"\n",
      "_________________________________________________________________\n",
      "Layer (type)                 Output Shape              Param #   \n",
      "=================================================================\n",
      "lstm (LSTM)                  (None, 7, 50)             12000     \n",
      "_________________________________________________________________\n",
      "dropout (Dropout)            (None, 7, 50)             0         \n",
      "_________________________________________________________________\n",
      "lstm_1 (LSTM)                (None, 7, 50)             20200     \n",
      "_________________________________________________________________\n",
      "dropout_1 (Dropout)          (None, 7, 50)             0         \n",
      "_________________________________________________________________\n",
      "lstm_2 (LSTM)                (None, 50)                20200     \n",
      "_________________________________________________________________\n",
      "dropout_2 (Dropout)          (None, 50)                0         \n",
      "_________________________________________________________________\n",
      "dense (Dense)                (None, 1)                 51        \n",
      "=================================================================\n",
      "Total params: 52,451\n",
      "Trainable params: 52,451\n",
      "Non-trainable params: 0\n",
      "_________________________________________________________________\n",
      "Epoch 1/100\n",
      "1/1 [==============================] - 3s 3s/step - loss: 111146.3438 - accuracy: 0.0000e+00 - val_loss: 223401.1562 - val_accuracy: 0.0000e+00\n",
      "Epoch 2/100\n",
      "1/1 [==============================] - 0s 84ms/step - loss: 110931.2422 - accuracy: 0.0000e+00 - val_loss: 223241.8438 - val_accuracy: 0.0000e+00\n",
      "Epoch 3/100\n",
      "1/1 [==============================] - 0s 82ms/step - loss: 110802.6250 - accuracy: 0.0000e+00 - val_loss: 223105.8281 - val_accuracy: 0.0000e+00\n",
      "Epoch 4/100\n",
      "1/1 [==============================] - 0s 86ms/step - loss: 110640.4922 - accuracy: 0.0000e+00 - val_loss: 222963.1094 - val_accuracy: 0.0000e+00\n",
      "Epoch 5/100\n",
      "1/1 [==============================] - 0s 85ms/step - loss: 110498.7266 - accuracy: 0.0000e+00 - val_loss: 222803.2969 - val_accuracy: 0.0000e+00\n",
      "Epoch 6/100\n",
      "1/1 [==============================] - 0s 86ms/step - loss: 110386.9062 - accuracy: 0.0000e+00 - val_loss: 222576.7969 - val_accuracy: 0.0000e+00\n",
      "Epoch 7/100\n",
      "1/1 [==============================] - 0s 82ms/step - loss: 110212.9844 - accuracy: 0.0000e+00 - val_loss: 222252.7500 - val_accuracy: 0.0000e+00\n",
      "Epoch 8/100\n",
      "1/1 [==============================] - 0s 87ms/step - loss: 110083.5234 - accuracy: 0.0000e+00 - val_loss: 221970.8750 - val_accuracy: 0.0000e+00\n",
      "Epoch 9/100\n",
      "1/1 [==============================] - 0s 109ms/step - loss: 109962.4297 - accuracy: 0.0000e+00 - val_loss: 221747.0625 - val_accuracy: 0.0000e+00\n",
      "Epoch 10/100\n",
      "1/1 [==============================] - 0s 109ms/step - loss: 109816.3359 - accuracy: 0.0000e+00 - val_loss: 221532.4688 - val_accuracy: 0.0000e+00\n",
      "Epoch 11/100\n",
      "1/1 [==============================] - 0s 98ms/step - loss: 109668.5469 - accuracy: 0.0000e+00 - val_loss: 221301.8750 - val_accuracy: 0.0000e+00\n",
      "Epoch 12/100\n",
      "1/1 [==============================] - 0s 88ms/step - loss: 109519.0859 - accuracy: 0.0000e+00 - val_loss: 221058.5469 - val_accuracy: 0.0000e+00\n",
      "Epoch 13/100\n",
      "1/1 [==============================] - 0s 83ms/step - loss: 109382.2109 - accuracy: 0.0000e+00 - val_loss: 220812.0312 - val_accuracy: 0.0000e+00\n",
      "Epoch 14/100\n",
      "1/1 [==============================] - 0s 84ms/step - loss: 109242.4375 - accuracy: 0.0000e+00 - val_loss: 220577.3906 - val_accuracy: 0.0000e+00\n",
      "Epoch 15/100\n",
      "1/1 [==============================] - 0s 83ms/step - loss: 109108.2578 - accuracy: 0.0000e+00 - val_loss: 220354.7812 - val_accuracy: 0.0000e+00\n",
      "Epoch 16/100\n",
      "1/1 [==============================] - 0s 82ms/step - loss: 108949.3594 - accuracy: 0.0000e+00 - val_loss: 220143.1094 - val_accuracy: 0.0000e+00\n",
      "Epoch 17/100\n",
      "1/1 [==============================] - 0s 84ms/step - loss: 108801.0781 - accuracy: 0.0000e+00 - val_loss: 219935.6562 - val_accuracy: 0.0000e+00\n",
      "Epoch 18/100\n",
      "1/1 [==============================] - 0s 90ms/step - loss: 108670.6953 - accuracy: 0.0000e+00 - val_loss: 219720.1250 - val_accuracy: 0.0000e+00\n",
      "Epoch 19/100\n",
      "1/1 [==============================] - 0s 92ms/step - loss: 108507.5781 - accuracy: 0.0000e+00 - val_loss: 219522.9062 - val_accuracy: 0.0000e+00\n",
      "Epoch 20/100\n",
      "1/1 [==============================] - 0s 84ms/step - loss: 108361.2344 - accuracy: 0.0000e+00 - val_loss: 219356.2344 - val_accuracy: 0.0000e+00\n",
      "Epoch 21/100\n",
      "1/1 [==============================] - 0s 83ms/step - loss: 108231.6797 - accuracy: 0.0000e+00 - val_loss: 219189.8281 - val_accuracy: 0.0000e+00\n",
      "Epoch 22/100\n",
      "1/1 [==============================] - 0s 84ms/step - loss: 108071.1875 - accuracy: 0.0000e+00 - val_loss: 218965.7500 - val_accuracy: 0.0000e+00\n",
      "Epoch 23/100\n",
      "1/1 [==============================] - 0s 86ms/step - loss: 107916.7031 - accuracy: 0.0000e+00 - val_loss: 218662.3281 - val_accuracy: 0.0000e+00\n",
      "Epoch 24/100\n",
      "1/1 [==============================] - 0s 85ms/step - loss: 107764.9688 - accuracy: 0.0000e+00 - val_loss: 218353.4688 - val_accuracy: 0.0000e+00\n",
      "Epoch 25/100\n",
      "1/1 [==============================] - 0s 83ms/step - loss: 107593.3750 - accuracy: 0.0000e+00 - val_loss: 218129.2812 - val_accuracy: 0.0000e+00\n",
      "Epoch 26/100\n",
      "1/1 [==============================] - 0s 85ms/step - loss: 107428.9844 - accuracy: 0.0000e+00 - val_loss: 217988.8906 - val_accuracy: 0.0000e+00\n",
      "Epoch 27/100\n",
      "1/1 [==============================] - 0s 95ms/step - loss: 107320.6719 - accuracy: 0.0000e+00 - val_loss: 217865.4219 - val_accuracy: 0.0000e+00\n",
      "Epoch 28/100\n",
      "1/1 [==============================] - 0s 91ms/step - loss: 107202.6094 - accuracy: 0.0000e+00 - val_loss: 217742.2031 - val_accuracy: 0.0000e+00\n",
      "Epoch 29/100\n",
      "1/1 [==============================] - 0s 96ms/step - loss: 107064.3203 - accuracy: 0.0000e+00 - val_loss: 217622.3125 - val_accuracy: 0.0000e+00\n",
      "Epoch 30/100\n",
      "1/1 [==============================] - 0s 114ms/step - loss: 106924.1172 - accuracy: 0.0000e+00 - val_loss: 217499.2812 - val_accuracy: 0.0000e+00\n",
      "Epoch 31/100\n",
      "1/1 [==============================] - 0s 117ms/step - loss: 106782.7266 - accuracy: 0.0000e+00 - val_loss: 217353.6875 - val_accuracy: 0.0000e+00\n",
      "Epoch 32/100\n",
      "1/1 [==============================] - 0s 102ms/step - loss: 106672.5156 - accuracy: 0.0000e+00 - val_loss: 217181.4219 - val_accuracy: 0.0000e+00\n",
      "Epoch 33/100\n",
      "1/1 [==============================] - 0s 96ms/step - loss: 106579.3359 - accuracy: 0.0000e+00 - val_loss: 217009.2031 - val_accuracy: 0.0000e+00\n",
      "Epoch 34/100\n",
      "1/1 [==============================] - 0s 100ms/step - loss: 106469.0625 - accuracy: 0.0000e+00 - val_loss: 216863.0312 - val_accuracy: 0.0000e+00\n",
      "Epoch 35/100\n",
      "1/1 [==============================] - 0s 101ms/step - loss: 106370.1094 - accuracy: 0.0000e+00 - val_loss: 216742.6719 - val_accuracy: 0.0000e+00\n",
      "Epoch 36/100\n",
      "1/1 [==============================] - 0s 107ms/step - loss: 106295.7578 - accuracy: 0.0000e+00 - val_loss: 216644.1094 - val_accuracy: 0.0000e+00\n",
      "Epoch 37/100\n",
      "1/1 [==============================] - 0s 144ms/step - loss: 106173.3984 - accuracy: 0.0000e+00 - val_loss: 216562.1562 - val_accuracy: 0.0000e+00\n",
      "Epoch 38/100\n",
      "1/1 [==============================] - 0s 130ms/step - loss: 106101.4062 - accuracy: 0.0000e+00 - val_loss: 216482.3125 - val_accuracy: 0.0000e+00\n",
      "Epoch 39/100\n",
      "1/1 [==============================] - 0s 138ms/step - loss: 106032.7266 - accuracy: 0.0000e+00 - val_loss: 216387.3281 - val_accuracy: 0.0000e+00\n",
      "Epoch 40/100\n",
      "1/1 [==============================] - 0s 112ms/step - loss: 105990.4141 - accuracy: 0.0000e+00 - val_loss: 216267.2188 - val_accuracy: 0.0000e+00\n",
      "Epoch 41/100\n",
      "1/1 [==============================] - 0s 97ms/step - loss: 105920.8281 - accuracy: 0.0000e+00 - val_loss: 216132.2812 - val_accuracy: 0.0000e+00\n",
      "Epoch 42/100\n",
      "1/1 [==============================] - 0s 102ms/step - loss: 105806.4609 - accuracy: 0.0000e+00 - val_loss: 216014.1875 - val_accuracy: 0.0000e+00\n",
      "Epoch 43/100\n",
      "1/1 [==============================] - 0s 92ms/step - loss: 105765.8047 - accuracy: 0.0000e+00 - val_loss: 215927.6250 - val_accuracy: 0.0000e+00\n",
      "Epoch 44/100\n",
      "1/1 [==============================] - 0s 89ms/step - loss: 105724.9844 - accuracy: 0.0000e+00 - val_loss: 215857.8281 - val_accuracy: 0.0000e+00\n",
      "Epoch 45/100\n",
      "1/1 [==============================] - 0s 118ms/step - loss: 105649.4531 - accuracy: 0.0000e+00 - val_loss: 215787.5312 - val_accuracy: 0.0000e+00\n",
      "Epoch 46/100\n",
      "1/1 [==============================] - 0s 87ms/step - loss: 105607.4531 - accuracy: 0.0000e+00 - val_loss: 215707.6875 - val_accuracy: 0.0000e+00\n",
      "Epoch 47/100\n",
      "1/1 [==============================] - 0s 85ms/step - loss: 105545.4141 - accuracy: 0.0000e+00 - val_loss: 215610.5312 - val_accuracy: 0.0000e+00\n",
      "Epoch 48/100\n",
      "1/1 [==============================] - 0s 87ms/step - loss: 105496.8281 - accuracy: 0.0000e+00 - val_loss: 215496.0312 - val_accuracy: 0.0000e+00\n",
      "Epoch 49/100\n",
      "1/1 [==============================] - 0s 85ms/step - loss: 105423.6562 - accuracy: 0.0000e+00 - val_loss: 215372.6406 - val_accuracy: 0.0000e+00\n",
      "Epoch 50/100\n",
      "1/1 [==============================] - 0s 88ms/step - loss: 105390.3750 - accuracy: 0.0000e+00 - val_loss: 215256.0312 - val_accuracy: 0.0000e+00\n",
      "Epoch 51/100\n",
      "1/1 [==============================] - 0s 92ms/step - loss: 105263.6562 - accuracy: 0.0000e+00 - val_loss: 215153.6562 - val_accuracy: 0.0000e+00\n",
      "Epoch 52/100\n",
      "1/1 [==============================] - 0s 118ms/step - loss: 105209.4688 - accuracy: 0.0000e+00 - val_loss: 215063.9219 - val_accuracy: 0.0000e+00\n",
      "Epoch 53/100\n",
      "1/1 [==============================] - 0s 118ms/step - loss: 105156.7812 - accuracy: 0.0000e+00 - val_loss: 214984.8750 - val_accuracy: 0.0000e+00\n",
      "Epoch 54/100\n",
      "1/1 [==============================] - 0s 98ms/step - loss: 105059.5703 - accuracy: 0.0000e+00 - val_loss: 214905.6719 - val_accuracy: 0.0000e+00\n",
      "Epoch 55/100\n",
      "1/1 [==============================] - 0s 95ms/step - loss: 105012.6875 - accuracy: 0.0000e+00 - val_loss: 214813.6406 - val_accuracy: 0.0000e+00\n",
      "Epoch 56/100\n",
      "1/1 [==============================] - 0s 102ms/step - loss: 104923.9062 - accuracy: 0.0000e+00 - val_loss: 214715.7188 - val_accuracy: 0.0000e+00\n",
      "Epoch 57/100\n",
      "1/1 [==============================] - 0s 121ms/step - loss: 104874.1719 - accuracy: 0.0000e+00 - val_loss: 214618.3594 - val_accuracy: 0.0000e+00\n",
      "Epoch 58/100\n",
      "1/1 [==============================] - 0s 136ms/step - loss: 104782.9375 - accuracy: 0.0000e+00 - val_loss: 214516.0469 - val_accuracy: 0.0000e+00\n",
      "Epoch 59/100\n",
      "1/1 [==============================] - 0s 132ms/step - loss: 104751.6172 - accuracy: 0.0000e+00 - val_loss: 214405.0781 - val_accuracy: 0.0000e+00\n",
      "Epoch 60/100\n",
      "1/1 [==============================] - 0s 136ms/step - loss: 104670.6406 - accuracy: 0.0000e+00 - val_loss: 214300.4844 - val_accuracy: 0.0000e+00\n",
      "Epoch 61/100\n",
      "1/1 [==============================] - 0s 136ms/step - loss: 104603.2891 - accuracy: 0.0000e+00 - val_loss: 214227.5312 - val_accuracy: 0.0000e+00\n",
      "Epoch 62/100\n",
      "1/1 [==============================] - 0s 118ms/step - loss: 104574.7109 - accuracy: 0.0000e+00 - val_loss: 214170.5469 - val_accuracy: 0.0000e+00\n",
      "Epoch 63/100\n",
      "1/1 [==============================] - 0s 163ms/step - loss: 104512.8750 - accuracy: 0.0000e+00 - val_loss: 214116.9062 - val_accuracy: 0.0000e+00\n",
      "Epoch 64/100\n",
      "1/1 [==============================] - 0s 147ms/step - loss: 104459.3594 - accuracy: 0.0000e+00 - val_loss: 214063.9688 - val_accuracy: 0.0000e+00\n",
      "Epoch 65/100\n",
      "1/1 [==============================] - 0s 128ms/step - loss: 104419.7188 - accuracy: 0.0000e+00 - val_loss: 214011.2812 - val_accuracy: 0.0000e+00\n",
      "Epoch 66/100\n",
      "1/1 [==============================] - 0s 133ms/step - loss: 104372.1250 - accuracy: 0.0000e+00 - val_loss: 213958.7188 - val_accuracy: 0.0000e+00\n",
      "Epoch 67/100\n",
      "1/1 [==============================] - 0s 149ms/step - loss: 104348.9844 - accuracy: 0.0000e+00 - val_loss: 213906.2500 - val_accuracy: 0.0000e+00\n",
      "Epoch 68/100\n",
      "1/1 [==============================] - 0s 147ms/step - loss: 104314.1484 - accuracy: 0.0000e+00 - val_loss: 213853.8906 - val_accuracy: 0.0000e+00\n",
      "Epoch 69/100\n",
      "1/1 [==============================] - 0s 137ms/step - loss: 104269.3125 - accuracy: 0.0000e+00 - val_loss: 213801.6406 - val_accuracy: 0.0000e+00\n",
      "Epoch 70/100\n",
      "1/1 [==============================] - 0s 143ms/step - loss: 104203.3828 - accuracy: 0.0000e+00 - val_loss: 213749.4531 - val_accuracy: 0.0000e+00\n",
      "Epoch 71/100\n",
      "1/1 [==============================] - 0s 137ms/step - loss: 104165.8672 - accuracy: 0.0000e+00 - val_loss: 213697.4219 - val_accuracy: 0.0000e+00\n",
      "Epoch 72/100\n",
      "1/1 [==============================] - 0s 136ms/step - loss: 104150.6250 - accuracy: 0.0000e+00 - val_loss: 213645.4688 - val_accuracy: 0.0000e+00\n",
      "Epoch 73/100\n",
      "1/1 [==============================] - 0s 137ms/step - loss: 104095.6016 - accuracy: 0.0000e+00 - val_loss: 213593.6719 - val_accuracy: 0.0000e+00\n",
      "Epoch 74/100\n",
      "1/1 [==============================] - 0s 136ms/step - loss: 104088.5469 - accuracy: 0.0000e+00 - val_loss: 213542.0000 - val_accuracy: 0.0000e+00\n",
      "Epoch 75/100\n",
      "1/1 [==============================] - 0s 128ms/step - loss: 104054.0234 - accuracy: 0.0000e+00 - val_loss: 213490.4688 - val_accuracy: 0.0000e+00\n",
      "Epoch 76/100\n",
      "1/1 [==============================] - 0s 133ms/step - loss: 104037.5781 - accuracy: 0.0000e+00 - val_loss: 213439.0625 - val_accuracy: 0.0000e+00\n",
      "Epoch 77/100\n",
      "1/1 [==============================] - 0s 125ms/step - loss: 103971.9609 - accuracy: 0.0000e+00 - val_loss: 213387.8281 - val_accuracy: 0.0000e+00\n",
      "Epoch 78/100\n",
      "1/1 [==============================] - 0s 125ms/step - loss: 103905.6250 - accuracy: 0.0000e+00 - val_loss: 213336.6719 - val_accuracy: 0.0000e+00\n",
      "Epoch 79/100\n",
      "1/1 [==============================] - 0s 123ms/step - loss: 103928.7734 - accuracy: 0.0000e+00 - val_loss: 213285.6562 - val_accuracy: 0.0000e+00\n",
      "Epoch 80/100\n",
      "1/1 [==============================] - 0s 134ms/step - loss: 103820.0703 - accuracy: 0.0000e+00 - val_loss: 213234.7656 - val_accuracy: 0.0000e+00\n",
      "Epoch 81/100\n",
      "1/1 [==============================] - 0s 146ms/step - loss: 103840.2891 - accuracy: 0.0000e+00 - val_loss: 213183.9688 - val_accuracy: 0.0000e+00\n",
      "Epoch 82/100\n",
      "1/1 [==============================] - 0s 128ms/step - loss: 103768.2969 - accuracy: 0.0000e+00 - val_loss: 213133.3125 - val_accuracy: 0.0000e+00\n",
      "Epoch 83/100\n",
      "1/1 [==============================] - 0s 124ms/step - loss: 103775.1562 - accuracy: 0.0000e+00 - val_loss: 213082.7969 - val_accuracy: 0.0000e+00\n",
      "Epoch 84/100\n",
      "1/1 [==============================] - 0s 124ms/step - loss: 103753.2031 - accuracy: 0.0000e+00 - val_loss: 213032.3750 - val_accuracy: 0.0000e+00\n",
      "Epoch 85/100\n",
      "1/1 [==============================] - 0s 121ms/step - loss: 103734.6875 - accuracy: 0.0000e+00 - val_loss: 212982.1250 - val_accuracy: 0.0000e+00\n",
      "Epoch 86/100\n",
      "1/1 [==============================] - 0s 124ms/step - loss: 103656.1797 - accuracy: 0.0000e+00 - val_loss: 212931.9688 - val_accuracy: 0.0000e+00\n",
      "Epoch 87/100\n",
      "1/1 [==============================] - 0s 129ms/step - loss: 103647.1719 - accuracy: 0.0000e+00 - val_loss: 212881.9531 - val_accuracy: 0.0000e+00\n",
      "Epoch 88/100\n",
      "1/1 [==============================] - 0s 159ms/step - loss: 103570.8438 - accuracy: 0.0000e+00 - val_loss: 212832.0312 - val_accuracy: 0.0000e+00\n",
      "Epoch 89/100\n",
      "1/1 [==============================] - 0s 139ms/step - loss: 103550.7188 - accuracy: 0.0000e+00 - val_loss: 212782.2188 - val_accuracy: 0.0000e+00\n",
      "Epoch 90/100\n",
      "1/1 [==============================] - 0s 135ms/step - loss: 103527.8047 - accuracy: 0.0000e+00 - val_loss: 212732.5469 - val_accuracy: 0.0000e+00\n",
      "Epoch 91/100\n",
      "1/1 [==============================] - 0s 122ms/step - loss: 103510.6562 - accuracy: 0.0000e+00 - val_loss: 212682.9844 - val_accuracy: 0.0000e+00\n",
      "Epoch 92/100\n",
      "1/1 [==============================] - 0s 126ms/step - loss: 103496.8281 - accuracy: 0.0000e+00 - val_loss: 212633.5312 - val_accuracy: 0.0000e+00\n",
      "Epoch 93/100\n",
      "1/1 [==============================] - 0s 136ms/step - loss: 103429.2734 - accuracy: 0.0000e+00 - val_loss: 212584.1719 - val_accuracy: 0.0000e+00\n",
      "Epoch 94/100\n",
      "1/1 [==============================] - 0s 141ms/step - loss: 103380.0312 - accuracy: 0.0000e+00 - val_loss: 212534.9375 - val_accuracy: 0.0000e+00\n",
      "Epoch 95/100\n",
      "1/1 [==============================] - 0s 122ms/step - loss: 103362.4062 - accuracy: 0.0000e+00 - val_loss: 212485.7812 - val_accuracy: 0.0000e+00\n",
      "Epoch 96/100\n",
      "1/1 [==============================] - 0s 121ms/step - loss: 103355.8828 - accuracy: 0.0000e+00 - val_loss: 212436.7500 - val_accuracy: 0.0000e+00\n",
      "Epoch 97/100\n",
      "1/1 [==============================] - 0s 122ms/step - loss: 103318.3359 - accuracy: 0.0000e+00 - val_loss: 212387.8125 - val_accuracy: 0.0000e+00\n",
      "Epoch 98/100\n",
      "1/1 [==============================] - 0s 130ms/step - loss: 103286.2344 - accuracy: 0.0000e+00 - val_loss: 212338.9844 - val_accuracy: 0.0000e+00\n",
      "Epoch 99/100\n",
      "1/1 [==============================] - 0s 120ms/step - loss: 103265.7188 - accuracy: 0.0000e+00 - val_loss: 212290.2500 - val_accuracy: 0.0000e+00\n",
      "Epoch 100/100\n",
      "1/1 [==============================] - 0s 123ms/step - loss: 103180.3203 - accuracy: 0.0000e+00 - val_loss: 212241.6250 - val_accuracy: 0.0000e+00\n"
     ]
    }
   ],
   "source": [
    "model = Multi_Step_LSTM_model()\n",
    "model.summary()\n",
    "model.compile(optimizer='adam', loss='mean_squared_error', metrics = ['accuracy'])\n",
    "early_stop = EarlyStopping(monitor='val_loss',patience=5,verbose=2)\n",
    "history = model.fit(train_input,train_output, validation_split=0.3,batch_size=len(train_input), epochs=100,callbacks=early_stop)"
   ]
  },
  {
   "cell_type": "code",
   "execution_count": 25,
   "metadata": {},
   "outputs": [
    {
     "name": "stdout",
     "output_type": "stream",
     "text": [
      "\n",
      "val_acc: 0.00%\n"
     ]
    },
    {
     "data": {
      "image/png": "[encoded data removed]",
      "text/plain": [
       "<Figure size 432x288 with 1 Axes>"
      ]
     },
     "metadata": {
      "needs_background": "light"
     },
     "output_type": "display_data"
    }
   ],
   "source": [
    "def draw(history):\n",
    "    val_acc = np.mean(history.history['val_accuracy'])\n",
    "    print(\"\\n%s: %.2f%%\" % ('val_acc', val_acc*100))\n",
    "    plt.plot(history.history['accuracy'])\n",
    "    plt.plot(history.history['val_accuracy'])\n",
    "    plt.plot(history.history['loss'])\n",
    "    plt.plot(history.history['val_loss'])\n",
    "    plt.title('model accuracy')\n",
    "    plt.ylabel('accuracy')\n",
    "    plt.xlabel('epoch')\n",
    "    plt.legend(['train', 'validation','train_loss','val_loss'], loc='upper left')\n",
    "\n",
    "    # plt.legend(['train','loss'], loc='upper left')\n",
    "    plt.show()\n",
    "draw(history)"
   ]
  },
  {
   "cell_type": "code",
   "execution_count": 26,
   "metadata": {},
   "outputs": [
    {
     "name": "stdout",
     "output_type": "stream",
     "text": [
      "Saved model to disk\n"
     ]
    }
   ],
   "source": [
    "# serialize model to JSON\n",
    "model_json = model.to_json()\n",
    "with open(filepath+\"model.json\", \"w\") as json_file:\n",
    "    json_file.write(model_json)\n",
    "# serialize weights to HDF5\n",
    "model.save_weights(filepath+\"model.json.h5\")\n",
    "print(\"Saved model to disk\")"
   ]
  },
  {
   "cell_type": "markdown",
   "metadata": {},
   "source": [
    "# Perdict"
   ]
  },
  {
   "cell_type": "code",
   "execution_count": 27,
   "metadata": {},
   "outputs": [],
   "source": [
    "test_x = df[num_train:].copy().drop(columns=['sales'])\n",
    "test_x = test_x.groupby(['date'],as_index=False).agg(condition)"
   ]
  },
  {
   "cell_type": "code",
   "execution_count": 28,
   "metadata": {},
   "outputs": [],
   "source": [
    "train_x_buf = df[:num_train].copy().drop(columns=['sales'])\n",
    "train_x_buf = train_x_buf.groupby(['date'],as_index=False).agg(condition)#ok\n",
    "test_x = pd.concat([train_x_buf[-1*(history_input):-1],test_x],ignore_index=True)\n",
    "# print(train_x_buf[-7:-1])"
   ]
  },
  {
   "cell_type": "code",
   "execution_count": 29,
   "metadata": {},
   "outputs": [
    {
     "name": "stdout",
     "output_type": "stream",
     "text": [
      "(28512, 7, 9)\n"
     ]
    }
   ],
   "source": [
    "test_input = []\n",
    "# for i in range(len(test_x)-history_input+1):\n",
    "#     # test_input.append(test_x[i:i+history_input].values)# show date\n",
    "#     test_input.append(test_x[i:i+history_input].drop(columns=['date']).values)   \n",
    "#     end = x_test_mean.index[x_test_mean['date']==x_test['date'].iloc[i]].tolist()[0]\n",
    "#     start = end - 29\n",
    "#     x_test_input.append(pd.concat([x_test_mean[start:end].drop(columns=[\"date\"]),x_test[i:i+1].drop(columns=[\"date\",\"sales\"])]).values)\n",
    "test_ = df[num_train:].copy()\n",
    "for i in range(len(test_['date'])):\n",
    "    end = test_x.index[test_x['date']==test_['date'].iloc[i]].tolist()[0]\n",
    "    start = end - history_input + 1\n",
    "    test_input.append(pd.concat([test_x[start:end],test_[i:i+1]]).drop(columns=['date','sales']).values)\n",
    "    # print(start,end)\n",
    "    # if i==28511:\n",
    "    #     print(x_test_mean[start:end].drop(columns=[\"date\"]),x_test[i:i+1].drop(columns=[\"date\",\"sales\"]))\n",
    "\n",
    "test_input=np.array(test_input)\n",
    "print(test_input.shape)"
   ]
  },
  {
   "cell_type": "code",
   "execution_count": 30,
   "metadata": {},
   "outputs": [
    {
     "name": "stdout",
     "output_type": "stream",
     "text": [
      "[[5.166827 ]\n",
      " [5.1675143]\n",
      " [5.1681614]\n",
      " ...\n",
      " [5.108201 ]\n",
      " [5.108944 ]\n",
      " [5.1100793]]\n"
     ]
    }
   ],
   "source": [
    "y_pred = model.predict(test_input)\n",
    "print(y_pred)"
   ]
  },
  {
   "cell_type": "code",
   "execution_count": 31,
   "metadata": {},
   "outputs": [
    {
     "name": "stdout",
     "output_type": "stream",
     "text": [
      "<class 'numpy.ndarray'>\n"
     ]
    }
   ],
   "source": [
    "y_pred = scaler.inverse_transform(y_pred)\n",
    "print(type(y_pred))"
   ]
  },
  {
   "cell_type": "code",
   "execution_count": 32,
   "metadata": {},
   "outputs": [
    {
     "name": "stderr",
     "output_type": "stream",
     "text": [
      "C:\\ProgramData\\Anaconda3\\envs\\ProjectPy37\\lib\\site-packages\\ipykernel_launcher.py:3: SettingWithCopyWarning: \n",
      "A value is trying to be set on a copy of a slice from a DataFrame.\n",
      "Try using .loc[row_indexer,col_indexer] = value instead\n",
      "\n",
      "See the caveats in the documentation: https://pandas.pydata.org/pandas-docs/stable/user_guide/indexing.html#returning-a-view-versus-a-copy\n",
      "  This is separate from the ipykernel package so we can avoid doing imports until\n"
     ]
    }
   ],
   "source": [
    "test_data = pd.read_csv('test.csv')\n",
    "submit = test_data[['id']]\n",
    "submit['sales'] = y_pred"
   ]
  },
  {
   "cell_type": "code",
   "execution_count": 33,
   "metadata": {},
   "outputs": [],
   "source": [
    "submit.to_csv(filepath+\"submit.csv\",index=False,sep=',')\n",
    "import zipfile\n",
    "with zipfile.ZipFile(filepath+'submit.zip', 'w') as zf:\n",
    "    zf.write(filepath+'submit.csv')"
   ]
  }
 ],
 "metadata": {
  "interpreter": {
   "hash": "c8c472b424fe76d5858727f5e7c739de7bd74a4cb37b6d5f5e59b92d3371aa43"
  },
  "kernelspec": {
   "display_name": "Python 3.7.11 64-bit ('DeepLearn': conda)",
   "language": "python",
   "name": "python3"
  },
  "language_info": {
   "codemirror_mode": {
    "name": "ipython",
    "version": 3
   },
   "file_extension": ".py",
   "mimetype": "text/x-python",
   "name": "python",
   "nbconvert_exporter": "python",
   "pygments_lexer": "ipython3",
   "version": "3.7.10"
  },
  "orig_nbformat": 4
 },
 "nbformat": 4,
 "nbformat_minor": 2
}
